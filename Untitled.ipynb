{
 "cells": [
  {
   "cell_type": "code",
   "execution_count": 1,
   "id": "8fe11211-8fcd-4b6b-93b7-efab9242834c",
   "metadata": {},
   "outputs": [],
   "source": [
    "import math\n",
    "import PIL\n",
    "import extcolors\n",
    "import numpy as np\n",
    "import urllib.request\n",
    "import matplotlib.pyplot as plt\n",
    "from PIL import Image, ImageDraw\n",
    "from matplotlib import gridspec"
   ]
  },
  {
   "cell_type": "code",
   "execution_count": 2,
   "id": "734d1ac9-68bb-4656-9e7b-68fbf23967f4",
   "metadata": {},
   "outputs": [],
   "source": [
    "def study_image(image_path):\n",
    "  \n",
    "  img = fetch_image(image_path)\n",
    "  colors = extract_colors(img)\n",
    "  color_palette = render_color_platte(colors)\n",
    "  overlay_palette(img, color_palette)"
   ]
  },
  {
   "cell_type": "code",
   "execution_count": null,
   "id": "f5ec81cb-0869-49a7-8273-175162053d7d",
   "metadata": {},
   "outputs": [],
   "source": [
    "def fetch_image(image_path):\n",
    "  urllib.request.urlretrieve(image_path, \"image\")\n",
    "  img = PIL.Image.open(\"image\")\n",
    "  return img\n",
    "\n",
    "def extract_colors(img):\n",
    "  tolerance = 32\n",
    "  limit = 24\n",
    "  colors, pixel_count = extcolors.extract_from_image(img, tolerance, limit)\n",
    "  return colors\n",
    "\n",
    "def render_color_platte(colors):\n",
    "  size = 100\n",
    "  columns = 6\n",
    "  width = int(min(len(colors), columns) * size)\n",
    "  height = int((math.floor(len(colors) / columns) + 1) * size)\n",
    "  result = Image.new(\"RGBA\", (width, height), (0, 0, 0, 0))\n",
    "  canvas = ImageDraw.Draw(result)\n",
    "  for idx, color in enumerate(colors):\n",
    "      x = int((idx % columns) * size)\n",
    "      y = int(math.floor(idx / columns) * size)\n",
    "      canvas.rectangle([(x, y), (x + size - 1, y + size - 1)], fill=color[0])\n",
    "  return result\n",
    "\n",
    "def overlay_palette(img, color_palette):\n",
    "  nrow = 2\n",
    "  ncol = 1\n",
    "  f = plt.figure(figsize=(20,30), facecolor='None', edgecolor='k', dpi=55, num=None)\n",
    "  gs = gridspec.GridSpec(nrow, ncol, wspace=0.0, hspace=0.0) \n",
    "  f.add_subplot(2, 1, 1)\n",
    "  plt.imshow(img, interpolation='nearest')\n",
    "  plt.axis('off')\n",
    "  f.add_subplot(1, 2, 2)\n",
    "  plt.imshow(color_palette, interpolation='nearest')\n",
    "  plt.axis('off')\n",
    "  plt.subplots_adjust(wspace=0, hspace=0, bottom=0)\n",
    "  plt.show(block=True)"
   ]
  },
  {
   "cell_type": "code",
   "execution_count": null,
   "id": "3ecdedfa-4595-41ae-8740-3cd88742e26a",
   "metadata": {},
   "outputs": [],
   "source": [
    "image_url = 'https://lh3.googleusercontent.com/HCr6xEc9w-SGn7xqaahJ76wXrdAVNi38GXEsnPuJrcXWheSUaIMfmSMKbPFfzGe98kMU-1eqDzVpguM2OyGnfNLx=w600'\n",
    "study_image(image_url)"
   ]
  }
 ],
 "metadata": {
  "kernelspec": {
   "display_name": "Python 3 (ipykernel)",
   "language": "python",
   "name": "python3"
  },
  "language_info": {
   "codemirror_mode": {
    "name": "ipython",
    "version": 3
   },
   "file_extension": ".py",
   "mimetype": "text/x-python",
   "name": "python",
   "nbconvert_exporter": "python",
   "pygments_lexer": "ipython3",
   "version": "3.8.10"
  }
 },
 "nbformat": 4,
 "nbformat_minor": 5
}
